{
 "cells": [
  {
   "cell_type": "code",
   "execution_count": 1,
   "id": "1bd0d26e-6eaa-4e42-83d0-d12e1fbaeffa",
   "metadata": {},
   "outputs": [],
   "source": [
    "## IMPORTS\n",
    "import torch\n",
    "import torch.nn as nn\n",
    "from torch.nn import functional as F\n",
    "import pandas as pd\n",
    "import numpy as np\n",
    "from matplotlib import pyplot as plt\n",
    "from tqdm import tqdm\n",
    "from IPython.display import Image"
   ]
  },
  {
   "cell_type": "code",
   "execution_count": 2,
   "id": "523ac262-7437-43b6-9de6-0a96d83fed43",
   "metadata": {},
   "outputs": [],
   "source": [
    "with open('dataset/input.txt', 'r', encoding='utf-8') as f:\n",
    "    text = f.read()\n",
    "\n",
    "# here are all the unique characters that occur in this text\n",
    "chars = sorted(list(set(text)))\n",
    "vocab_size = len(chars)\n",
    "# create a mapping from characters to integers\n",
    "stoi = { ch:i for i,ch in enumerate(chars) }\n",
    "itos = { i:ch for i,ch in enumerate(chars) }\n",
    "encode = lambda s: [stoi[c] for c in s] # encoder: take a string, output a list of integers\n",
    "decode = lambda l: ''.join([itos[i] for i in l]) # decoder: take a list of integers, output a string\n",
    "\n",
    "# Train and test splits\n",
    "data = torch.tensor(encode(text), dtype=torch.long)\n",
    "n = int(0.9*len(data)) # first 90% will be train, rest val\n",
    "train_data = data[:n]\n",
    "val_data = data[n:]\n",
    "\n",
    "# data loading\n",
    "def get_batch(split):\n",
    "    # generate a small batch of data of inputs x and targets y\n",
    "    data = train_data if split == 'train' else val_data\n",
    "    ix = torch.randint(len(data) - block_size, (batch_size,))\n",
    "    x = torch.stack([data[i:i+block_size] for i in ix])\n",
    "    y = torch.stack([data[i+1:i+block_size+1] for i in ix])\n",
    "    x, y = x.to(device), y.to(device)\n",
    "    return x, y"
   ]
  },
  {
   "cell_type": "code",
   "execution_count": 3,
   "id": "6cc1c91e-45b0-454c-b7c0-1d18c63ea8de",
   "metadata": {
    "tags": []
   },
   "outputs": [],
   "source": [
    "torch.manual_seed(1337)\n",
    "# hyperparameters\n",
    "batch_size = 16 # how many independent sequences will we process in parallel?\n",
    "block_size = 32 # what is the maximum context length for predictions?\n",
    "max_iters = 5000\n",
    "eval_interval = 10\n",
    "learning_rate = 1e-3\n",
    "device = 'cuda' if torch.cuda.is_available() else 'cpu'\n",
    "eval_iters = 200\n",
    "dropout = 0.1\n",
    "# ------------"
   ]
  },
  {
   "cell_type": "code",
   "execution_count": 4,
   "id": "32559a3a-56ef-4485-b4fc-09557f5cd8ac",
   "metadata": {
    "tags": []
   },
   "outputs": [],
   "source": [
    "\n",
    "class Head(nn.Module):\n",
    "    \"\"\" one head of self-attention \"\"\"\n",
    "\n",
    "    def __init__(self, head_size):\n",
    "        super().__init__()\n",
    "        self.key = nn.Linear(n_embd, head_size, bias=False)\n",
    "        self.query = nn.Linear(n_embd, head_size, bias=False)\n",
    "        self.value = nn.Linear(n_embd, head_size, bias=False)\n",
    "        self.register_buffer('tril', torch.tril(torch.ones(block_size, block_size)))\n",
    "\n",
    "        self.dropout = nn.Dropout(dropout)\n",
    "\n",
    "    def forward(self, x):\n",
    "        B,T,C = x.shape\n",
    "        k = self.key(x)   # (B,T,C) 16,32,16\n",
    "        q = self.query(x) # (B,T,C)\n",
    "        # compute attention scores (\"affinities\")\n",
    "        wei = q @ k.transpose(-2,-1) * C**-0.5 # (B, T, C) @ (B, C, T) -> (B, T, T)\n",
    "        wei = wei.masked_fill(self.tril[:T, :T] == 0, float('-inf')) # (B, T, T)\n",
    "        wei = F.softmax(wei, dim=-1) # (B, T, T)\n",
    "        wei = self.dropout(wei)\n",
    "        # perform the weighted aggregation of the values\n",
    "        v = self.value(x) # (B,T,C)\n",
    "        out = wei @ v # (B, T, T) @ (B, T, C) -> (B, T, C)\n",
    "        return out\n",
    "\n",
    "class MultiHeadAttention(nn.Module):\n",
    "    \"\"\" multiple heads of self-attention in parallel \"\"\"\n",
    "\n",
    "    def __init__(self, num_heads, head_size):\n",
    "        super().__init__()\n",
    "        self.heads = nn.ModuleList([Head(head_size) for _ in range(num_heads)])\n",
    "        self.proj = nn.Linear(n_embd, n_embd)\n",
    "        self.dropout = nn.Dropout(dropout)\n",
    "\n",
    "    def forward(self, x):\n",
    "        out = torch.cat([h(x) for h in self.heads], dim=-1)\n",
    "        out = self.dropout(self.proj(out))\n",
    "        return out\n",
    "\n",
    "class FeedFoward(nn.Module):\n",
    "    \"\"\" a simple linear layer followed by a non-linearity \"\"\"\n",
    "\n",
    "    def __init__(self, n_embd):\n",
    "        super().__init__()\n",
    "        self.net = nn.Sequential(\n",
    "            nn.Linear(n_embd, 4 * n_embd),\n",
    "            nn.ReLU(),\n",
    "            nn.Linear(4 * n_embd, n_embd), # Projection layer going back into the residual pathway\n",
    "            nn.Dropout(dropout),\n",
    "        )\n",
    "\n",
    "    def forward(self, x):\n",
    "        return self.net(x)\n",
    "\n",
    "    \n",
    "class Block(nn.Module):\n",
    "    \"\"\" Transformer block: communication followed by computation \"\"\"\n",
    "\n",
    "    def __init__(self, n_embd, n_head):\n",
    "        # n_embd: embedding dimension, n_head: the number of heads we'd like\n",
    "        super().__init__()\n",
    "        head_size = n_embd // n_head\n",
    "        self.sa = MultiHeadAttention(n_head, head_size)\n",
    "        self.ffwd = FeedFoward(n_embd)\n",
    "        self.ln1 = nn.LayerNorm(n_embd)\n",
    "        self.ln2 = nn.LayerNorm(n_embd)\n",
    "\n",
    "    def forward(self, x):\n",
    "        x = x + self.sa(self.ln1(x))    # Communication\n",
    "        x = x + self.ffwd(self.ln2(x))  # Computation\n",
    "        return x\n",
    "    \n",
    "\n",
    "# super simple language model\n",
    "class LanguageModel(nn.Module):\n",
    "\n",
    "    def __init__(self):\n",
    "        super().__init__()\n",
    "        # each token directly reads off the logits for the next token from a lookup table\n",
    "        self.token_embedding_table = nn.Embedding(vocab_size, n_embd)\n",
    "        self.position_embedding_table = nn.Embedding(block_size, n_embd)\n",
    "        self.blocks = nn.Sequential(*[Block(n_embd, n_head=n_head) for _ in range(n_layer)])\n",
    "        self.ln_f = nn.LayerNorm(n_embd) # final layer norm\n",
    "        self.lm_head = nn.Linear(n_embd, vocab_size)\n",
    "\n",
    "    def forward(self, idx, targets=None):\n",
    "        B, T = idx.shape\n",
    "\n",
    "        # idx and targets are both (B,T) tensor of integers\n",
    "        tok_emb = self.token_embedding_table(idx) # (B,T,C)\n",
    "        pos_emb = self.position_embedding_table(torch.arange(T, device=device)) # (T,C)\n",
    "        x = tok_emb + pos_emb # (B,T,C)\n",
    "        x = self.blocks(x) # (B,T,C)\n",
    "        x = self.ln_f(x) # (B,T,C)\n",
    "        logits = self.lm_head(x) # (B,T,vocab_size)\n",
    "\n",
    "        if targets is None:\n",
    "            loss = None\n",
    "        else:\n",
    "            B, T, C = logits.shape\n",
    "            logits = logits.view(B*T, C)\n",
    "            targets = targets.view(B*T)\n",
    "            loss = F.cross_entropy(logits, targets)\n",
    "\n",
    "        return logits, loss\n",
    "\n",
    "    def generate(self, idx, max_new_tokens):\n",
    "        # idx is (B, T) array of indices in the current context\n",
    "        for _ in range(max_new_tokens):\n",
    "            # crop idx to the last block_size tokens\n",
    "            idx_cond = idx[:, -block_size:]\n",
    "            # get the predictions\n",
    "            logits, loss = self(idx_cond)\n",
    "            # focus only on the last time step\n",
    "            logits = logits[:, -1, :] # becomes (B, C)\n",
    "            # apply softmax to get probabilities\n",
    "            probs = F.softmax(logits, dim=-1) # (B, C)\n",
    "            # sample from the distribution\n",
    "            idx_next = torch.multinomial(probs, num_samples=1) # (B, 1)\n",
    "            # append sampled index to the running sequence\n",
    "            idx = torch.cat((idx, idx_next), dim=1) # (B, T+1)\n",
    "        return idx\n"
   ]
  },
  {
   "cell_type": "code",
   "execution_count": 5,
   "id": "c5c8df77-bee7-49a5-8cd1-2c05a46d7cf3",
   "metadata": {},
   "outputs": [],
   "source": [
    "@torch.no_grad()\n",
    "def estimate_loss():\n",
    "    out = {}\n",
    "    model.eval()\n",
    "    for split in ['train', 'val']:\n",
    "        losses = torch.zeros(eval_iters)\n",
    "        for k in range(eval_iters):\n",
    "            X, Y = get_batch(split)\n",
    "            logits, loss = model(X, Y)\n",
    "            losses[k] = loss.item()\n",
    "        out[split] = losses.mean()\n",
    "    return out['train'], out['val']"
   ]
  },
  {
   "cell_type": "code",
   "execution_count": 6,
   "id": "076f23a5-2d89-4a7c-9969-72f8eb2dd969",
   "metadata": {},
   "outputs": [],
   "source": [
    "train = get_batch('train')"
   ]
  },
  {
   "cell_type": "markdown",
   "id": "cddea961-cf13-4d56-90eb-d475605e5155",
   "metadata": {},
   "source": [
    "TRAIL 1"
   ]
  },
  {
   "cell_type": "code",
   "execution_count": 7,
   "id": "4bd3e89b-a717-4b5f-a02a-e974f2947175",
   "metadata": {
    "tags": []
   },
   "outputs": [
    {
     "name": "stderr",
     "output_type": "stream",
     "text": [
      "100%|██████████| 30/30 [00:44<00:00,  1.50s/it]\n"
     ]
    },
    {
     "name": "stdout",
     "output_type": "stream",
     "text": [
      "Epoch 29: train loss: 3.259, perplexity: 26.020\n",
      "Epoch 29: validation loss: 3.259, perplexity: 26.019\n",
      "CPU times: user 50.6 s, sys: 580 ms, total: 51.1 s\n",
      "Wall time: 45.1 s\n"
     ]
    },
    {
     "data": {
      "image/png": "[encoded data removed]",
      "text/plain": [
       "<Figure size 640x480 with 1 Axes>"
      ]
     },
     "metadata": {},
     "output_type": "display_data"
    }
   ],
   "source": [
    "%%time\n",
    "n_embd = 64\n",
    "n_head = 4 ## so head_size = 16\n",
    "n_layer = 4\n",
    "model = LanguageModel().to(device)\n",
    "optimizer = torch.optim.AdamW(model.parameters(), lr=1e-3, weight_decay=0.01)\n",
    "epochs = 30\n",
    "cols = [\"train_perplexity\", \"val_perplexity\"]\n",
    "training_frame = {col: [] for col in cols}\n",
    "for epoch in tqdm(range(epochs)):\n",
    "    model.train()\n",
    "    _, loss = model.forward(train[0], train[1])\n",
    "    loss.backward()\n",
    "    optimizer.step() \n",
    "    train_loss, val_loss = estimate_loss()\n",
    "    train_perplexity = torch.exp(train_loss); val_perplexity = torch.exp(val_loss)\n",
    "    training_frame[\"train_perplexity\"].append(train_perplexity.item()); training_frame[\"val_perplexity\"].append(val_perplexity.item())\n",
    "print(f\"Epoch {epoch}: train loss: {train_loss:.3f}, perplexity: {train_perplexity:.3f}\" )\n",
    "print(f\"Epoch {epoch}: validation loss: {val_loss:.3f}, perplexity: {val_perplexity:.3f}\")\n",
    "training_frame = pd.DataFrame(training_frame)\n",
    "fig1, axs = plt.subplots()\n",
    "title = f\"n_embd = {n_embd}, n_head={n_head}, n_layer={n_layer}\"\n",
    "plt.suptitle(title)\n",
    "training_frame.plot(y=[\"train_perplexity\", \"val_perplexity\"], ax=axs, xlabel='Epochs', title=\"preplexity\")\n",
    "plt.tight_layout()\n",
    "name = 'hw5_fig1.png'\n",
    "fig1.savefig(name)\n",
    "# Image(name)"
   ]
  },
  {
   "cell_type": "markdown",
   "id": "f9f606af-797e-499d-82b5-a5c733be9892",
   "metadata": {},
   "source": [
    "TRIAL 2: Increase the number of layers --> See a lower perplexity score"
   ]
  },
  {
   "cell_type": "code",
   "execution_count": null,
   "id": "e9476718-64b1-44ce-a20b-279370b60da9",
   "metadata": {},
   "outputs": [
    {
     "name": "stderr",
     "output_type": "stream",
     "text": [
      " 80%|████████  | 24/30 [01:07<00:16,  2.80s/it]"
     ]
    }
   ],
   "source": [
    "%%time\n",
    "n_embd = 64\n",
    "n_head = 4 ## so head_size = 16\n",
    "n_layer = 8\n",
    "model = LanguageModel().to(device)\n",
    "optimizer = torch.optim.AdamW(model.parameters(), lr=1e-3, weight_decay=0.01)\n",
    "epochs = 30\n",
    "cols = [\"train_perplexity\", \"val_perplexity\"]\n",
    "training_frame = {col: [] for col in cols}\n",
    "for epoch in tqdm(range(epochs)):\n",
    "    model.train()\n",
    "    _, loss = model.forward(train[0], train[1])\n",
    "    loss.backward()\n",
    "    optimizer.step() \n",
    "    train_loss, val_loss = estimate_loss()\n",
    "    train_perplexity = torch.exp(train_loss); val_perplexity = torch.exp(val_loss)\n",
    "    training_frame[\"train_perplexity\"].append(train_perplexity.item()); training_frame[\"val_perplexity\"].append(val_perplexity.item())\n",
    "print(f\"Epoch {epoch}: train loss: {train_loss:.3f}, perplexity: {train_perplexity:.3f}\" )\n",
    "print(f\"Epoch {epoch}: validation loss: {val_loss:.3f}, perplexity: {val_perplexity:.3f}\")\n",
    "training_frame = pd.DataFrame(training_frame)\n",
    "fig2, axs = plt.subplots()\n",
    "title = f\"n_embd = {n_embd}, n_head={n_head}, n_layer={n_layer}\"\n",
    "plt.suptitle(title)\n",
    "training_frame.plot(y=[\"train_perplexity\", \"val_perplexity\"], ax=axs, xlabel='Epochs', title=\"preplexity\")\n",
    "plt.tight_layout()\n",
    "name = 'hw5_fig2.png'\n",
    "fig2.savefig(name)\n",
    "# Image(name)"
   ]
  },
  {
   "cell_type": "markdown",
   "id": "bb0b126d-6b7b-4e21-847b-710f6a4da8f5",
   "metadata": {},
   "source": [
    "TRIAL 3: Increase the embedding dimension"
   ]
  },
  {
   "cell_type": "code",
   "execution_count": null,
   "id": "3627b553-1eee-4f62-b059-3bf0a562cd3a",
   "metadata": {},
   "outputs": [],
   "source": [
    "%%time\n",
    "n_embd = 128\n",
    "n_head = 4 ## so head_size = 16\n",
    "n_layer = 8\n",
    "model = LanguageModel().to(device)\n",
    "optimizer = torch.optim.AdamW(model.parameters(), lr=1e-4, weight_decay=0.01)\n",
    "epochs = 40\n",
    "cols = [\"train_perplexity\", \"val_perplexity\"]\n",
    "training_frame = {col: [] for col in cols}\n",
    "for epoch in tqdm(range(epochs)):\n",
    "    model.train()\n",
    "    _, loss = model.forward(train[0], train[1])\n",
    "    loss.backward()\n",
    "    optimizer.step() \n",
    "    train_loss, val_loss = estimate_loss()\n",
    "    train_perplexity = torch.exp(train_loss); val_perplexity = torch.exp(val_loss)\n",
    "    training_frame[\"train_perplexity\"].append(train_perplexity.item()); training_frame[\"val_perplexity\"].append(val_perplexity.item())\n",
    "print(f\"Epoch {epoch}: train loss: {train_loss:.3f}, perplexity: {train_perplexity:.3f}\" )\n",
    "print(f\"Epoch {epoch}: validation loss: {val_loss:.3f}, perplexity: {val_perplexity:.3f}\")\n",
    "training_frame = pd.DataFrame(training_frame)\n",
    "fig, axs = plt.subplots()\n",
    "title = f\"n_embd = {n_embd}, n_head={n_head}, n_layer={n_layer}\"\n",
    "plt.suptitle(title)\n",
    "training_frame.plot(y=[\"train_perplexity\", \"val_perplexity\"], ax=axs, xlabel='Epochs', title=\"preplexity\")\n",
    "plt.tight_layout()\n",
    "name = 'hw5_fig3.png'\n",
    "fig.savefig(name)\n",
    "# Image(name)"
   ]
  },
  {
   "cell_type": "code",
   "execution_count": null,
   "id": "28fad198-ea24-41ec-ae47-b71aa94294e4",
   "metadata": {},
   "outputs": [],
   "source": []
  }
 ],
 "metadata": {
  "kernelspec": {
   "display_name": "datascience/conda-2023-01-10",
   "language": "python",
   "name": "conda-2023-01-10"
  },
  "language_info": {
   "codemirror_mode": {
    "name": "ipython",
    "version": 3
   },
   "file_extension": ".py",
   "mimetype": "text/x-python",
   "name": "python",
   "nbconvert_exporter": "python",
   "pygments_lexer": "ipython3",
   "version": "3.10.9"
  }
 },
 "nbformat": 4,
 "nbformat_minor": 5
}
